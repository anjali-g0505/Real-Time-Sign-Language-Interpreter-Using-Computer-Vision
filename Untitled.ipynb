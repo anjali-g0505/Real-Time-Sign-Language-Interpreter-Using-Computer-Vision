{
 "cells": [
  {
   "cell_type": "code",
   "execution_count": 5,
   "id": "02df89d4",
   "metadata": {},
   "outputs": [
    {
     "name": "stdout",
     "output_type": "stream",
     "text": [
      "Collecting images for hello\n",
      "Collecting images for thanks\n",
      "Collecting images for yes\n",
      "Collecting images for no\n",
      "Collecting images for A\n"
     ]
    }
   ],
   "source": [
    "import cv2 #opencv\n",
    "import os #help us work with file paths\n",
    "import time #take a break between images so that we can move our hands in between\n",
    "import uuid #name image files\n",
    "IMAGES_PATH= 'Tensorflow/workspace/collectedimages/images' #specify images path\n",
    "labels=['hello','thanks','yes','no','A'] #label of the poses we will create\n",
    "number_imgs=15 #13 of those for training and 2 for testing\n",
    "for label in labels:\n",
    "    label_path = os.path.join(IMAGES_PATH, label)\n",
    "    os.makedirs(label_path, exist_ok=True) # Create directory if it does not exist\n",
    "    cap=cv2.VideoCapture(0)#cud be 0 or 2\n",
    "    print('Collecting images for {}'.format(label))\n",
    "    time.sleep(5)#sleep for 5sec\n",
    "    for imgnum in range(number_imgs): # to go through all 15 images\n",
    "        ret,frame = cap.read() # saves a tuple of the success flag and the frame( to get a frame of our hands only)\n",
    "        imagename=os.path.join(IMAGES_PATH,label,label+'.'+'{}.jpg'.format(str(uuid.uuid1()))) #define the entire images path fo the image( )\n",
    "        cv2.imwrite(imagename,frame) #writing or adding the frame to the imagename directory \n",
    "        cv2.imshow('frame',frame) #1st parameter is Windowname, then frame is displayed on the screen\n",
    "        time.sleep(2)#sleep for 2 seconds between images while collecting images\n",
    "        \n",
    "        if cv2.waitKey(1)& 0xFF ==ord('q'): #To go out of the loop, we press the key Q, if an error is observed.\n",
    "            break\n",
    "    cap.release() #stops the video capture from the camera or video file  \n",
    "    \n",
    "                               \n",
    "        \n",
    "    # !pip install opencv-python"
   ]
  },
  {
   "cell_type": "code",
   "execution_count": null,
   "id": "c7833b62",
   "metadata": {},
   "outputs": [],
   "source": []
  }
 ],
 "metadata": {
  "kernelspec": {
   "display_name": "Python 3 (ipykernel)",
   "language": "python",
   "name": "python3"
  },
  "language_info": {
   "codemirror_mode": {
    "name": "ipython",
    "version": 3
   },
   "file_extension": ".py",
   "mimetype": "text/x-python",
   "name": "python",
   "nbconvert_exporter": "python",
   "pygments_lexer": "ipython3",
   "version": "3.9.23"
  }
 },
 "nbformat": 4,
 "nbformat_minor": 5
}
